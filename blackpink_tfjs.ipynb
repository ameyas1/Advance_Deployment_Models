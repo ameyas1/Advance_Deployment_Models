{
  "nbformat": 4,
  "nbformat_minor": 0,
  "metadata": {
    "colab": {
      "name": "blackpink_tfjs.ipynb",
      "provenance": [],
      "include_colab_link": true
    },
    "kernelspec": {
      "name": "python3",
      "display_name": "Python 3"
    }
  },
  "cells": [
    {
      "cell_type": "markdown",
      "metadata": {
        "id": "view-in-github",
        "colab_type": "text"
      },
      "source": [
        "<a href=\"https://colab.research.google.com/github/ameyas1/Advance_Deployment_Models/blob/master/blackpink_tfjs.ipynb\" target=\"_parent\"><img src=\"https://colab.research.google.com/assets/colab-badge.svg\" alt=\"Open In Colab\"/></a>"
      ]
    },
    {
      "cell_type": "code",
      "metadata": {
        "id": "H1DLTxZ_A-xC",
        "colab_type": "code",
        "colab": {}
      },
      "source": [
        "try:\n",
        "  # %tensorflow_version only exists in Colab.\n",
        "  %tensorflow_version 2.x\n",
        "except Exception:\n",
        "  pass\n",
        "import tensorflow as tf"
      ],
      "execution_count": 0,
      "outputs": []
    },
    {
      "cell_type": "code",
      "metadata": {
        "id": "Mqqyl0HjmBlJ",
        "colab_type": "code",
        "outputId": "4004229b-831c-419d-9394-99e9b159189d",
        "colab": {
          "base_uri": "https://localhost:8080/",
          "height": 1000
        }
      },
      "source": [
        "!pip install tensorflowjs"
      ],
      "execution_count": 0,
      "outputs": [
        {
          "output_type": "stream",
          "text": [
            "Collecting tensorflowjs\n",
            "\u001b[?25l  Downloading https://files.pythonhosted.org/packages/2e/ed/4c6aeff56a9c0816277931d5c2c6c2b3f98fcd8af1fcbbcc0d6a5a1c0403/tensorflowjs-1.6.0-py3-none-any.whl (57kB)\n",
            "\r\u001b[K     |█████▊                          | 10kB 20.4MB/s eta 0:00:01\r\u001b[K     |███████████▌                    | 20kB 1.8MB/s eta 0:00:01\r\u001b[K     |█████████████████▎              | 30kB 2.6MB/s eta 0:00:01\r\u001b[K     |███████████████████████         | 40kB 1.7MB/s eta 0:00:01\r\u001b[K     |████████████████████████████▊   | 51kB 2.1MB/s eta 0:00:01\r\u001b[K     |████████████████████████████████| 61kB 2.1MB/s \n",
            "\u001b[?25hRequirement already satisfied: numpy>=1.16.4 in /usr/local/lib/python3.6/dist-packages (from tensorflowjs) (1.18.2)\n",
            "Requirement already satisfied: tensorflow-hub==0.7.0 in /usr/local/lib/python3.6/dist-packages (from tensorflowjs) (0.7.0)\n",
            "Collecting gast==0.2.2\n",
            "  Downloading https://files.pythonhosted.org/packages/4e/35/11749bf99b2d4e3cceb4d55ca22590b0d7c2c62b9de38ac4a4a7f4687421/gast-0.2.2.tar.gz\n",
            "Collecting tensorflow-cpu==2.1.0\n",
            "\u001b[?25l  Downloading https://files.pythonhosted.org/packages/1f/a9/d8e5118b4cc096633c04677809f0000519c43043b01311da02678349acf4/tensorflow_cpu-2.1.0-cp36-cp36m-manylinux2010_x86_64.whl (104.6MB)\n",
            "\u001b[K     |████████████████████████████████| 104.6MB 100kB/s \n",
            "\u001b[?25hRequirement already satisfied: six>=1.12.0 in /usr/local/lib/python3.6/dist-packages (from tensorflowjs) (1.12.0)\n",
            "Collecting PyInquirer==1.0.3\n",
            "  Downloading https://files.pythonhosted.org/packages/fb/4c/434b7c454010a284b49d6f1d446fe8dc5960415613d8c0225b9e2efb6724/PyInquirer-1.0.3.tar.gz\n",
            "Requirement already satisfied: h5py>=2.8.0 in /usr/local/lib/python3.6/dist-packages (from tensorflowjs) (2.10.0)\n",
            "Requirement already satisfied: protobuf>=3.4.0 in /usr/local/lib/python3.6/dist-packages (from tensorflow-hub==0.7.0->tensorflowjs) (3.10.0)\n",
            "Requirement already satisfied: wrapt>=1.11.1 in /usr/local/lib/python3.6/dist-packages (from tensorflow-cpu==2.1.0->tensorflowjs) (1.12.1)\n",
            "Requirement already satisfied: scipy==1.4.1; python_version >= \"3\" in /usr/local/lib/python3.6/dist-packages (from tensorflow-cpu==2.1.0->tensorflowjs) (1.4.1)\n",
            "Collecting tensorflow-estimator<2.2.0,>=2.1.0rc0\n",
            "\u001b[?25l  Downloading https://files.pythonhosted.org/packages/18/90/b77c328a1304437ab1310b463e533fa7689f4bfc41549593056d812fab8e/tensorflow_estimator-2.1.0-py2.py3-none-any.whl (448kB)\n",
            "\u001b[K     |████████████████████████████████| 450kB 46.0MB/s \n",
            "\u001b[?25hRequirement already satisfied: grpcio>=1.8.6 in /usr/local/lib/python3.6/dist-packages (from tensorflow-cpu==2.1.0->tensorflowjs) (1.27.2)\n",
            "Requirement already satisfied: google-pasta>=0.1.6 in /usr/local/lib/python3.6/dist-packages (from tensorflow-cpu==2.1.0->tensorflowjs) (0.2.0)\n",
            "Requirement already satisfied: opt-einsum>=2.3.2 in /usr/local/lib/python3.6/dist-packages (from tensorflow-cpu==2.1.0->tensorflowjs) (3.2.0)\n",
            "Requirement already satisfied: termcolor>=1.1.0 in /usr/local/lib/python3.6/dist-packages (from tensorflow-cpu==2.1.0->tensorflowjs) (1.1.0)\n",
            "Requirement already satisfied: keras-preprocessing>=1.1.0 in /usr/local/lib/python3.6/dist-packages (from tensorflow-cpu==2.1.0->tensorflowjs) (1.1.0)\n",
            "Collecting tensorboard<2.2.0,>=2.1.0\n",
            "\u001b[?25l  Downloading https://files.pythonhosted.org/packages/d9/41/bbf49b61370e4f4d245d4c6051dfb6db80cec672605c91b1652ac8cc3d38/tensorboard-2.1.1-py3-none-any.whl (3.8MB)\n",
            "\u001b[K     |████████████████████████████████| 3.9MB 41.4MB/s \n",
            "\u001b[?25hRequirement already satisfied: wheel>=0.26; python_version >= \"3\" in /usr/local/lib/python3.6/dist-packages (from tensorflow-cpu==2.1.0->tensorflowjs) (0.34.2)\n",
            "Requirement already satisfied: astor>=0.6.0 in /usr/local/lib/python3.6/dist-packages (from tensorflow-cpu==2.1.0->tensorflowjs) (0.8.1)\n",
            "Requirement already satisfied: absl-py>=0.7.0 in /usr/local/lib/python3.6/dist-packages (from tensorflow-cpu==2.1.0->tensorflowjs) (0.9.0)\n",
            "Requirement already satisfied: keras-applications>=1.0.8 in /usr/local/lib/python3.6/dist-packages (from tensorflow-cpu==2.1.0->tensorflowjs) (1.0.8)\n",
            "Collecting prompt_toolkit==1.0.14\n",
            "\u001b[?25l  Downloading https://files.pythonhosted.org/packages/ee/3d/b25d35a9f0d381dd1c02d8e04b37c353caaaff4bc32150328eeebe4931f5/prompt_toolkit-1.0.14-py3-none-any.whl (248kB)\n",
            "\u001b[K     |████████████████████████████████| 256kB 57.2MB/s \n",
            "\u001b[?25hCollecting Pygments>=2.2.0\n",
            "\u001b[?25l  Downloading https://files.pythonhosted.org/packages/2d/68/106af3ae51daf807e9cdcba6a90e518954eb8b70341cee52995540a53ead/Pygments-2.6.1-py3-none-any.whl (914kB)\n",
            "\u001b[K     |████████████████████████████████| 921kB 50.4MB/s \n",
            "\u001b[?25hRequirement already satisfied: regex>=2016.11.21 in /usr/local/lib/python3.6/dist-packages (from PyInquirer==1.0.3->tensorflowjs) (2019.12.20)\n",
            "Requirement already satisfied: setuptools in /usr/local/lib/python3.6/dist-packages (from protobuf>=3.4.0->tensorflow-hub==0.7.0->tensorflowjs) (46.0.0)\n",
            "Requirement already satisfied: google-auth-oauthlib<0.5,>=0.4.1 in /usr/local/lib/python3.6/dist-packages (from tensorboard<2.2.0,>=2.1.0->tensorflow-cpu==2.1.0->tensorflowjs) (0.4.1)\n",
            "Requirement already satisfied: markdown>=2.6.8 in /usr/local/lib/python3.6/dist-packages (from tensorboard<2.2.0,>=2.1.0->tensorflow-cpu==2.1.0->tensorflowjs) (3.2.1)\n",
            "Requirement already satisfied: google-auth<2,>=1.6.3 in /usr/local/lib/python3.6/dist-packages (from tensorboard<2.2.0,>=2.1.0->tensorflow-cpu==2.1.0->tensorflowjs) (1.7.2)\n",
            "Requirement already satisfied: werkzeug>=0.11.15 in /usr/local/lib/python3.6/dist-packages (from tensorboard<2.2.0,>=2.1.0->tensorflow-cpu==2.1.0->tensorflowjs) (1.0.0)\n",
            "Requirement already satisfied: requests<3,>=2.21.0 in /usr/local/lib/python3.6/dist-packages (from tensorboard<2.2.0,>=2.1.0->tensorflow-cpu==2.1.0->tensorflowjs) (2.21.0)\n",
            "Requirement already satisfied: wcwidth in /usr/local/lib/python3.6/dist-packages (from prompt_toolkit==1.0.14->PyInquirer==1.0.3->tensorflowjs) (0.1.9)\n",
            "Requirement already satisfied: requests-oauthlib>=0.7.0 in /usr/local/lib/python3.6/dist-packages (from google-auth-oauthlib<0.5,>=0.4.1->tensorboard<2.2.0,>=2.1.0->tensorflow-cpu==2.1.0->tensorflowjs) (1.3.0)\n",
            "Requirement already satisfied: cachetools<3.2,>=2.0.0 in /usr/local/lib/python3.6/dist-packages (from google-auth<2,>=1.6.3->tensorboard<2.2.0,>=2.1.0->tensorflow-cpu==2.1.0->tensorflowjs) (3.1.1)\n",
            "Requirement already satisfied: pyasn1-modules>=0.2.1 in /usr/local/lib/python3.6/dist-packages (from google-auth<2,>=1.6.3->tensorboard<2.2.0,>=2.1.0->tensorflow-cpu==2.1.0->tensorflowjs) (0.2.8)\n",
            "Requirement already satisfied: rsa<4.1,>=3.1.4 in /usr/local/lib/python3.6/dist-packages (from google-auth<2,>=1.6.3->tensorboard<2.2.0,>=2.1.0->tensorflow-cpu==2.1.0->tensorflowjs) (4.0)\n",
            "Requirement already satisfied: idna<2.9,>=2.5 in /usr/local/lib/python3.6/dist-packages (from requests<3,>=2.21.0->tensorboard<2.2.0,>=2.1.0->tensorflow-cpu==2.1.0->tensorflowjs) (2.8)\n",
            "Requirement already satisfied: chardet<3.1.0,>=3.0.2 in /usr/local/lib/python3.6/dist-packages (from requests<3,>=2.21.0->tensorboard<2.2.0,>=2.1.0->tensorflow-cpu==2.1.0->tensorflowjs) (3.0.4)\n",
            "Requirement already satisfied: certifi>=2017.4.17 in /usr/local/lib/python3.6/dist-packages (from requests<3,>=2.21.0->tensorboard<2.2.0,>=2.1.0->tensorflow-cpu==2.1.0->tensorflowjs) (2019.11.28)\n",
            "Requirement already satisfied: urllib3<1.25,>=1.21.1 in /usr/local/lib/python3.6/dist-packages (from requests<3,>=2.21.0->tensorboard<2.2.0,>=2.1.0->tensorflow-cpu==2.1.0->tensorflowjs) (1.24.3)\n",
            "Requirement already satisfied: oauthlib>=3.0.0 in /usr/local/lib/python3.6/dist-packages (from requests-oauthlib>=0.7.0->google-auth-oauthlib<0.5,>=0.4.1->tensorboard<2.2.0,>=2.1.0->tensorflow-cpu==2.1.0->tensorflowjs) (3.1.0)\n",
            "Requirement already satisfied: pyasn1<0.5.0,>=0.4.6 in /usr/local/lib/python3.6/dist-packages (from pyasn1-modules>=0.2.1->google-auth<2,>=1.6.3->tensorboard<2.2.0,>=2.1.0->tensorflow-cpu==2.1.0->tensorflowjs) (0.4.8)\n",
            "Building wheels for collected packages: gast, PyInquirer\n",
            "  Building wheel for gast (setup.py) ... \u001b[?25l\u001b[?25hdone\n",
            "  Created wheel for gast: filename=gast-0.2.2-cp36-none-any.whl size=7540 sha256=44ec1ec734de047720e71cc86abcdc9fc12c0b096fb257ae6233da04863d6e7d\n",
            "  Stored in directory: /root/.cache/pip/wheels/5c/2e/7e/a1d4d4fcebe6c381f378ce7743a3ced3699feb89bcfbdadadd\n",
            "  Building wheel for PyInquirer (setup.py) ... \u001b[?25l\u001b[?25hdone\n",
            "  Created wheel for PyInquirer: filename=PyInquirer-1.0.3-cp36-none-any.whl size=32851 sha256=591ffc3e134e177e98810ae013603dc85a661fe20925dc548886e99be2473ece\n",
            "  Stored in directory: /root/.cache/pip/wheels/52/6c/b1/3e4b0e8daf42a92883c7641c0ea8ffb62e0490ebed2faa55ad\n",
            "Successfully built gast PyInquirer\n",
            "\u001b[31mERROR: tensorflow 2.2.0rc2 has requirement gast==0.3.3, but you'll have gast 0.2.2 which is incompatible.\u001b[0m\n",
            "\u001b[31mERROR: tensorflow 2.2.0rc2 has requirement tensorboard<2.3.0,>=2.2.0, but you'll have tensorboard 2.1.1 which is incompatible.\u001b[0m\n",
            "\u001b[31mERROR: tensorflow 2.2.0rc2 has requirement tensorflow-estimator<2.3.0,>=2.2.0rc0, but you'll have tensorflow-estimator 2.1.0 which is incompatible.\u001b[0m\n",
            "\u001b[31mERROR: qtconsole 4.7.2 has requirement pyzmq>=17.1, but you'll have pyzmq 17.0.0 which is incompatible.\u001b[0m\n",
            "\u001b[31mERROR: datascience 0.10.6 has requirement folium==0.2.1, but you'll have folium 0.8.3 which is incompatible.\u001b[0m\n",
            "Installing collected packages: gast, tensorflow-estimator, tensorboard, tensorflow-cpu, prompt-toolkit, Pygments, PyInquirer, tensorflowjs\n",
            "  Found existing installation: gast 0.3.3\n",
            "    Uninstalling gast-0.3.3:\n",
            "      Successfully uninstalled gast-0.3.3\n",
            "  Found existing installation: tensorflow-estimator 2.2.0rc0\n",
            "    Uninstalling tensorflow-estimator-2.2.0rc0:\n",
            "      Successfully uninstalled tensorflow-estimator-2.2.0rc0\n",
            "  Found existing installation: tensorboard 2.2.0\n",
            "    Uninstalling tensorboard-2.2.0:\n",
            "      Successfully uninstalled tensorboard-2.2.0\n",
            "  Found existing installation: prompt-toolkit 1.0.18\n",
            "    Uninstalling prompt-toolkit-1.0.18:\n",
            "      Successfully uninstalled prompt-toolkit-1.0.18\n",
            "  Found existing installation: Pygments 2.1.3\n",
            "    Uninstalling Pygments-2.1.3:\n",
            "      Successfully uninstalled Pygments-2.1.3\n",
            "Successfully installed PyInquirer-1.0.3 Pygments-2.6.1 gast-0.2.2 prompt-toolkit-1.0.14 tensorboard-2.1.1 tensorflow-cpu-2.1.0 tensorflow-estimator-2.1.0 tensorflowjs-1.6.0\n"
          ],
          "name": "stdout"
        },
        {
          "output_type": "display_data",
          "data": {
            "application/vnd.colab-display-data+json": {
              "pip_warning": {
                "packages": [
                  "gast",
                  "prompt_toolkit",
                  "pygments",
                  "tensorboard",
                  "tensorflow"
                ]
              }
            }
          },
          "metadata": {
            "tags": []
          }
        }
      ]
    },
    {
      "cell_type": "code",
      "metadata": {
        "id": "OWNkJiGDmLLz",
        "colab_type": "code",
        "colab": {}
      },
      "source": [
        "# import tensorflow as tf"
      ],
      "execution_count": 0,
      "outputs": []
    },
    {
      "cell_type": "code",
      "metadata": {
        "id": "gvfhyaVeETDq",
        "colab_type": "code",
        "outputId": "1cdc05c3-f999-4cd5-e7b9-f78ce692a2af",
        "colab": {
          "base_uri": "https://localhost:8080/",
          "height": 123
        }
      },
      "source": [
        "# Run this cell to mount your Google Drive.\n",
        "from google.colab import drive\n",
        "drive.mount('/content/drive')"
      ],
      "execution_count": 0,
      "outputs": [
        {
          "output_type": "stream",
          "text": [
            "Go to this URL in a browser: https://accounts.google.com/o/oauth2/auth?client_id=947318989803-6bn6qk8qdgf4n4g3pfee6491hc0brc4i.apps.googleusercontent.com&redirect_uri=urn%3aietf%3awg%3aoauth%3a2.0%3aoob&response_type=code&scope=email%20https%3a%2f%2fwww.googleapis.com%2fauth%2fdocs.test%20https%3a%2f%2fwww.googleapis.com%2fauth%2fdrive%20https%3a%2f%2fwww.googleapis.com%2fauth%2fdrive.photos.readonly%20https%3a%2f%2fwww.googleapis.com%2fauth%2fpeopleapi.readonly\n",
            "\n",
            "Enter your authorization code:\n",
            "··········\n",
            "Mounted at /content/drive\n"
          ],
          "name": "stdout"
        }
      ]
    },
    {
      "cell_type": "code",
      "metadata": {
        "id": "7dJDvX8XET02",
        "colab_type": "code",
        "colab": {}
      },
      "source": [
        "import zipfile\n",
        "zip_ref = zipfile.ZipFile('/content/drive/My Drive/blackpink_revised_all_in_one.zip', 'r')\n",
        "zip_ref.extractall()\n",
        "zip_ref.close()"
      ],
      "execution_count": 0,
      "outputs": []
    },
    {
      "cell_type": "code",
      "metadata": {
        "id": "j0SgZES3FAL2",
        "colab_type": "code",
        "outputId": "4ad253c5-3aa5-4c1d-ba01-07a367090b29",
        "colab": {
          "base_uri": "https://localhost:8080/",
          "height": 34
        }
      },
      "source": [
        "from tensorflow.keras.models import load_model\n",
        "fc_model=load_model('/content/drive/My Drive/cp/adv_model_base_model_196-0.002.hdf5')"
      ],
      "execution_count": 0,
      "outputs": [
        {
          "output_type": "stream",
          "text": [
            "WARNING:tensorflow:Error in loading the saved optimizer state. As a result, your model is starting with a freshly initialized optimizer.\n"
          ],
          "name": "stdout"
        }
      ]
    },
    {
      "cell_type": "code",
      "metadata": {
        "id": "eiczdI9empC5",
        "colab_type": "code",
        "colab": {}
      },
      "source": [
        "!mkdir my_tfjs_model"
      ],
      "execution_count": 0,
      "outputs": []
    },
    {
      "cell_type": "code",
      "metadata": {
        "id": "gh-4cvzxnKm_",
        "colab_type": "code",
        "colab": {}
      },
      "source": [
        "!mkdir tmp"
      ],
      "execution_count": 0,
      "outputs": []
    },
    {
      "cell_type": "code",
      "metadata": {
        "id": "xWOw6nRonOU4",
        "colab_type": "code",
        "colab": {}
      },
      "source": [
        "saved_model_path = \"tmp/my_model.h5\"\n",
        "\n",
        "fc_model.save(saved_model_path)"
      ],
      "execution_count": 0,
      "outputs": []
    },
    {
      "cell_type": "code",
      "metadata": {
        "id": "yOHg3eVGnEup",
        "colab_type": "code",
        "colab": {}
      },
      "source": [
        "!tensorflowjs_converter \\\n",
        "    --input_format=keras \\\n",
        "    /content/tmp/my_model.h5 \\\n",
        "    /content/my_tfjs_model"
      ],
      "execution_count": 0,
      "outputs": []
    },
    {
      "cell_type": "code",
      "metadata": {
        "id": "U-l6XQbUnaf0",
        "colab_type": "code",
        "outputId": "df397461-bee4-48f1-a582-a6da269c9f98",
        "colab": {
          "base_uri": "https://localhost:8080/",
          "height": 1000
        }
      },
      "source": [
        "!zip -r blackpink_tfjs my_tfjs_model"
      ],
      "execution_count": 0,
      "outputs": [
        {
          "output_type": "stream",
          "text": [
            "  adding: my_tfjs_model/ (stored 0%)\n",
            "  adding: my_tfjs_model/group1-shard87of139.bin (deflated 5%)\n",
            "  adding: my_tfjs_model/group1-shard64of139.bin (deflated 6%)\n",
            "  adding: my_tfjs_model/group1-shard128of139.bin (deflated 7%)\n",
            "  adding: my_tfjs_model/group1-shard125of139.bin (deflated 7%)\n",
            "  adding: my_tfjs_model/group1-shard18of139.bin (deflated 5%)\n",
            "  adding: my_tfjs_model/group1-shard123of139.bin (deflated 7%)\n",
            "  adding: my_tfjs_model/group1-shard100of139.bin (deflated 5%)\n",
            "  adding: my_tfjs_model/group1-shard72of139.bin (deflated 5%)\n",
            "  adding: my_tfjs_model/group1-shard24of139.bin (deflated 5%)\n",
            "  adding: my_tfjs_model/group1-shard1of139.bin (deflated 7%)\n",
            "  adding: my_tfjs_model/group1-shard62of139.bin (deflated 6%)\n",
            "  adding: my_tfjs_model/group1-shard37of139.bin (deflated 6%)\n",
            "  adding: my_tfjs_model/group1-shard90of139.bin (deflated 6%)\n",
            "  adding: my_tfjs_model/group1-shard38of139.bin (deflated 5%)\n",
            "  adding: my_tfjs_model/group1-shard20of139.bin (deflated 6%)\n",
            "  adding: my_tfjs_model/group1-shard99of139.bin (deflated 5%)\n",
            "  adding: my_tfjs_model/group1-shard3of139.bin (deflated 7%)\n",
            "  adding: my_tfjs_model/group1-shard50of139.bin (deflated 6%)\n",
            "  adding: my_tfjs_model/group1-shard29of139.bin (deflated 5%)\n",
            "  adding: my_tfjs_model/group1-shard73of139.bin (deflated 5%)\n",
            "  adding: my_tfjs_model/group1-shard33of139.bin (deflated 5%)\n",
            "  adding: my_tfjs_model/group1-shard58of139.bin (deflated 5%)\n",
            "  adding: my_tfjs_model/group1-shard48of139.bin (deflated 6%)\n",
            "  adding: my_tfjs_model/group1-shard138of139.bin (deflated 7%)\n",
            "  adding: my_tfjs_model/group1-shard102of139.bin (deflated 5%)\n",
            "  adding: my_tfjs_model/group1-shard45of139.bin (deflated 5%)\n",
            "  adding: my_tfjs_model/group1-shard56of139.bin (deflated 5%)\n",
            "  adding: my_tfjs_model/group1-shard36of139.bin (deflated 6%)\n",
            "  adding: my_tfjs_model/group1-shard114of139.bin (deflated 6%)\n",
            "  adding: my_tfjs_model/group1-shard124of139.bin (deflated 7%)\n",
            "  adding: my_tfjs_model/group1-shard8of139.bin (deflated 6%)\n",
            "  adding: my_tfjs_model/group1-shard127of139.bin (deflated 7%)\n",
            "  adding: my_tfjs_model/group1-shard107of139.bin (deflated 6%)\n",
            "  adding: my_tfjs_model/group1-shard98of139.bin (deflated 5%)\n",
            "  adding: my_tfjs_model/group1-shard82of139.bin (deflated 5%)\n",
            "  adding: my_tfjs_model/group1-shard26of139.bin (deflated 5%)\n",
            "  adding: my_tfjs_model/group1-shard67of139.bin (deflated 5%)\n",
            "  adding: my_tfjs_model/group1-shard59of139.bin (deflated 5%)\n",
            "  adding: my_tfjs_model/group1-shard133of139.bin (deflated 7%)\n",
            "  adding: my_tfjs_model/group1-shard120of139.bin (deflated 6%)\n",
            "  adding: my_tfjs_model/group1-shard135of139.bin (deflated 7%)\n",
            "  adding: my_tfjs_model/group1-shard21of139.bin (deflated 6%)\n",
            "  adding: my_tfjs_model/group1-shard70of139.bin (deflated 5%)\n",
            "  adding: my_tfjs_model/group1-shard23of139.bin (deflated 6%)\n",
            "  adding: my_tfjs_model/group1-shard74of139.bin (deflated 5%)\n",
            "  adding: my_tfjs_model/group1-shard66of139.bin (deflated 5%)\n",
            "  adding: my_tfjs_model/group1-shard10of139.bin (deflated 6%)\n",
            "  adding: my_tfjs_model/group1-shard88of139.bin (deflated 5%)\n",
            "  adding: my_tfjs_model/group1-shard19of139.bin (deflated 6%)\n",
            "  adding: my_tfjs_model/group1-shard52of139.bin (deflated 5%)\n",
            "  adding: my_tfjs_model/group1-shard136of139.bin (deflated 7%)\n",
            "  adding: my_tfjs_model/group1-shard105of139.bin (deflated 6%)\n",
            "  adding: my_tfjs_model/group1-shard6of139.bin (deflated 7%)\n",
            "  adding: my_tfjs_model/group1-shard63of139.bin (deflated 6%)\n",
            "  adding: my_tfjs_model/group1-shard113of139.bin (deflated 6%)\n",
            "  adding: my_tfjs_model/group1-shard76of139.bin (deflated 6%)\n",
            "  adding: my_tfjs_model/group1-shard91of139.bin (deflated 6%)\n",
            "  adding: my_tfjs_model/group1-shard2of139.bin (deflated 7%)\n",
            "  adding: my_tfjs_model/group1-shard22of139.bin (deflated 6%)\n",
            "  adding: my_tfjs_model/group1-shard139of139.bin (deflated 7%)\n",
            "  adding: my_tfjs_model/group1-shard94of139.bin (deflated 6%)\n",
            "  adding: my_tfjs_model/group1-shard60of139.bin (deflated 5%)\n",
            "  adding: my_tfjs_model/group1-shard80of139.bin (deflated 5%)\n",
            "  adding: my_tfjs_model/group1-shard109of139.bin (deflated 6%)\n",
            "  adding: my_tfjs_model/group1-shard126of139.bin (deflated 7%)\n",
            "  adding: my_tfjs_model/group1-shard49of139.bin (deflated 6%)\n",
            "  adding: my_tfjs_model/group1-shard28of139.bin (deflated 5%)\n",
            "  adding: my_tfjs_model/group1-shard61of139.bin (deflated 5%)\n",
            "  adding: my_tfjs_model/group1-shard118of139.bin (deflated 6%)\n",
            "  adding: my_tfjs_model/group1-shard86of139.bin (deflated 5%)\n",
            "  adding: my_tfjs_model/group1-shard42of139.bin (deflated 5%)\n",
            "  adding: my_tfjs_model/group1-shard75of139.bin (deflated 5%)\n",
            "  adding: my_tfjs_model/group1-shard25of139.bin (deflated 5%)\n",
            "  adding: my_tfjs_model/group1-shard111of139.bin (deflated 6%)\n",
            "  adding: my_tfjs_model/group1-shard34of139.bin (deflated 6%)\n",
            "  adding: my_tfjs_model/group1-shard16of139.bin (deflated 5%)\n",
            "  adding: my_tfjs_model/group1-shard17of139.bin (deflated 5%)\n",
            "  adding: my_tfjs_model/group1-shard116of139.bin (deflated 6%)\n",
            "  adding: my_tfjs_model/group1-shard4of139.bin (deflated 7%)\n",
            "  adding: my_tfjs_model/group1-shard81of139.bin (deflated 5%)\n",
            "  adding: my_tfjs_model/group1-shard115of139.bin (deflated 6%)\n",
            "  adding: my_tfjs_model/group1-shard103of139.bin (deflated 6%)\n",
            "  adding: my_tfjs_model/group1-shard57of139.bin (deflated 5%)\n",
            "  adding: my_tfjs_model/group1-shard101of139.bin (deflated 5%)\n",
            "  adding: my_tfjs_model/group1-shard83of139.bin (deflated 5%)\n",
            "  adding: my_tfjs_model/group1-shard77of139.bin (deflated 6%)\n",
            "  adding: my_tfjs_model/group1-shard131of139.bin (deflated 7%)\n",
            "  adding: my_tfjs_model/group1-shard132of139.bin (deflated 6%)\n",
            "  adding: my_tfjs_model/group1-shard122of139.bin (deflated 7%)\n",
            "  adding: my_tfjs_model/model.json (deflated 91%)\n",
            "  adding: my_tfjs_model/group1-shard129of139.bin (deflated 7%)\n",
            "  adding: my_tfjs_model/group1-shard54of139.bin (deflated 5%)\n",
            "  adding: my_tfjs_model/group1-shard119of139.bin (deflated 6%)\n",
            "  adding: my_tfjs_model/group1-shard110of139.bin (deflated 6%)\n",
            "  adding: my_tfjs_model/group1-shard121of139.bin (deflated 7%)\n",
            "  adding: my_tfjs_model/group1-shard106of139.bin (deflated 6%)\n",
            "  adding: my_tfjs_model/group1-shard117of139.bin (deflated 6%)\n",
            "  adding: my_tfjs_model/group1-shard30of139.bin (deflated 5%)\n",
            "  adding: my_tfjs_model/group1-shard104of139.bin (deflated 6%)\n",
            "  adding: my_tfjs_model/group1-shard65of139.bin (deflated 6%)\n",
            "  adding: my_tfjs_model/group1-shard96of139.bin (deflated 5%)\n",
            "  adding: my_tfjs_model/group1-shard47of139.bin (deflated 5%)\n",
            "  adding: my_tfjs_model/group1-shard112of139.bin (deflated 6%)\n",
            "  adding: my_tfjs_model/group1-shard84of139.bin (deflated 5%)\n",
            "  adding: my_tfjs_model/group1-shard69of139.bin (deflated 5%)\n",
            "  adding: my_tfjs_model/group1-shard13of139.bin (deflated 5%)\n",
            "  adding: my_tfjs_model/group1-shard71of139.bin (deflated 5%)\n",
            "  adding: my_tfjs_model/group1-shard35of139.bin (deflated 6%)\n",
            "  adding: my_tfjs_model/group1-shard97of139.bin (deflated 5%)\n",
            "  adding: my_tfjs_model/group1-shard15of139.bin (deflated 5%)\n",
            "  adding: my_tfjs_model/group1-shard11of139.bin (deflated 6%)\n",
            "  adding: my_tfjs_model/group1-shard9of139.bin (deflated 6%)\n",
            "  adding: my_tfjs_model/group1-shard95of139.bin (deflated 5%)\n",
            "  adding: my_tfjs_model/group1-shard55of139.bin (deflated 5%)\n",
            "  adding: my_tfjs_model/group1-shard41of139.bin (deflated 5%)\n",
            "  adding: my_tfjs_model/group1-shard14of139.bin (deflated 5%)\n",
            "  adding: my_tfjs_model/group1-shard108of139.bin (deflated 6%)\n",
            "  adding: my_tfjs_model/group1-shard46of139.bin (deflated 5%)\n",
            "  adding: my_tfjs_model/group1-shard68of139.bin (deflated 5%)\n",
            "  adding: my_tfjs_model/group1-shard44of139.bin (deflated 5%)\n",
            "  adding: my_tfjs_model/group1-shard78of139.bin (deflated 6%)\n",
            "  adding: my_tfjs_model/group1-shard85of139.bin (deflated 5%)\n",
            "  adding: my_tfjs_model/group1-shard137of139.bin (deflated 7%)\n",
            "  adding: my_tfjs_model/group1-shard53of139.bin (deflated 5%)\n",
            "  adding: my_tfjs_model/group1-shard130of139.bin (deflated 7%)\n",
            "  adding: my_tfjs_model/group1-shard27of139.bin (deflated 5%)\n",
            "  adding: my_tfjs_model/group1-shard51of139.bin (deflated 6%)\n",
            "  adding: my_tfjs_model/group1-shard93of139.bin (deflated 6%)\n",
            "  adding: my_tfjs_model/group1-shard7of139.bin (deflated 7%)\n",
            "  adding: my_tfjs_model/group1-shard31of139.bin (deflated 5%)\n",
            "  adding: my_tfjs_model/group1-shard39of139.bin (deflated 5%)\n",
            "  adding: my_tfjs_model/group1-shard40of139.bin (deflated 5%)\n",
            "  adding: my_tfjs_model/group1-shard134of139.bin (deflated 7%)\n",
            "  adding: my_tfjs_model/group1-shard32of139.bin (deflated 5%)\n",
            "  adding: my_tfjs_model/group1-shard89of139.bin (deflated 5%)\n",
            "  adding: my_tfjs_model/group1-shard5of139.bin (deflated 7%)\n",
            "  adding: my_tfjs_model/group1-shard12of139.bin (deflated 5%)\n",
            "  adding: my_tfjs_model/group1-shard79of139.bin (deflated 6%)\n",
            "  adding: my_tfjs_model/group1-shard43of139.bin (deflated 5%)\n",
            "  adding: my_tfjs_model/group1-shard92of139.bin (deflated 6%)\n"
          ],
          "name": "stdout"
        }
      ]
    },
    {
      "cell_type": "code",
      "metadata": {
        "id": "C4gVTc3oodOv",
        "colab_type": "code",
        "colab": {}
      },
      "source": [
        "!mv /content/blackpink_tfjs.zip '/content/drive/My Drive/cp/'"
      ],
      "execution_count": 0,
      "outputs": []
    },
    {
      "cell_type": "code",
      "metadata": {
        "id": "91JIN1ZNo9f_",
        "colab_type": "code",
        "colab": {}
      },
      "source": [
        ""
      ],
      "execution_count": 0,
      "outputs": []
    }
  ]
}